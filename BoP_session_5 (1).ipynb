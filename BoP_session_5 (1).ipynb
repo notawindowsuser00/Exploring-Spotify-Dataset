{
  "nbformat": 4,
  "nbformat_minor": 0,
  "metadata": {
    "colab": {
      "provenance": [],
      "toc_visible": true
    },
    "kernelspec": {
      "name": "python3",
      "display_name": "Python 3"
    },
    "language_info": {
      "name": "python"
    }
  },
  "cells": [
    {
      "cell_type": "markdown",
      "source": [
        "# 1.&nbsp;Data Importing"
      ],
      "metadata": {
        "id": "anY9j--Fj79Z"
      }
    },
    {
      "cell_type": "code",
      "source": [
        "# What are the 5 most danceable songs? \n",
        "# are different scores in danceability  significantly correlated with energy?"
      ],
      "metadata": {
        "id": "0fgsVI62HMEq"
      },
      "execution_count": 87,
      "outputs": []
    },
    {
      "cell_type": "code",
      "source": [
        "# import packages\n",
        "import pandas as pd\n",
        "import numpy as np"
      ],
      "metadata": {
        "id": "9bYWUoe03v8p"
      },
      "execution_count": null,
      "outputs": []
    },
    {
      "cell_type": "code",
      "source": [
        "# import dataset: connect to the google drive\n",
        "from google.colab import drive\n",
        "drive.mount(\"/content/drive\")\n",
        "data = pd.read_csv('drive/MyDrive/data.csv')"
      ],
      "metadata": {
        "colab": {
          "base_uri": "https://localhost:8080/"
        },
        "id": "0axzNR3bwu33",
        "outputId": "36d883de-bb06-4c83-e520-b35581f84233"
      },
      "execution_count": 19,
      "outputs": [
        {
          "output_type": "stream",
          "name": "stdout",
          "text": [
            "Drive already mounted at /content/drive; to attempt to forcibly remount, call drive.mount(\"/content/drive\", force_remount=True).\n"
          ]
        }
      ]
    },
    {
      "cell_type": "markdown",
      "source": [
        "# 2.&nbsp;Data Cleaning (overview)"
      ],
      "metadata": {
        "id": "BbH5OJkwF1aW"
      }
    },
    {
      "cell_type": "code",
      "source": [
        "# danceability: a value of 0.0 is least danceable and 1.0 is most danceable\n",
        "# energy: measure from 0.0 to 1.0"
      ],
      "metadata": {
        "id": "W78tpmuoHVhp"
      },
      "execution_count": null,
      "outputs": []
    },
    {
      "cell_type": "code",
      "source": [
        "print(data)"
      ],
      "metadata": {
        "id": "AtiQL5ze3wVb",
        "colab": {
          "base_uri": "https://localhost:8080/"
        },
        "outputId": "20fa1e3f-4baf-4754-a782-2a83c78638d9"
      },
      "execution_count": 32,
      "outputs": [
        {
          "output_type": "stream",
          "name": "stdout",
          "text": [
            "      acousticness  danceability  duration_ms  energy  instrumentalness  key  \\\n",
            "0          0.01020         0.833       204600   0.434          0.021900    2   \n",
            "1          0.19900         0.743       326933   0.359          0.006110    1   \n",
            "2          0.03440         0.838       185707   0.412          0.000234    2   \n",
            "3          0.60400         0.494       199413   0.338          0.510000    5   \n",
            "4          0.18000         0.678       392893   0.561          0.512000    5   \n",
            "...            ...           ...          ...     ...               ...  ...   \n",
            "2012       0.00106         0.584       274404   0.932          0.002690    1   \n",
            "2013       0.08770         0.894       182182   0.892          0.001670    1   \n",
            "2014       0.00857         0.637       207200   0.935          0.003990    0   \n",
            "2015       0.00164         0.557       185600   0.992          0.677000    1   \n",
            "2016       0.00281         0.446       204520   0.915          0.000039    9   \n",
            "\n",
            "      liveness  loudness  mode  speechiness    tempo  time_signature  valence  \\\n",
            "0       0.1650    -8.795     1       0.4310  150.062             4.0    0.286   \n",
            "1       0.1370   -10.401     1       0.0794  160.083             4.0    0.588   \n",
            "2       0.1590    -7.148     1       0.2890   75.044             4.0    0.173   \n",
            "3       0.0922   -15.236     1       0.0261   86.468             4.0    0.230   \n",
            "4       0.4390   -11.648     0       0.0694  174.004             4.0    0.904   \n",
            "...        ...       ...   ...          ...      ...             ...      ...   \n",
            "2012    0.1290    -3.501     1       0.3330   74.976             4.0    0.211   \n",
            "2013    0.0528    -2.663     1       0.1310  110.041             4.0    0.867   \n",
            "2014    0.2140    -2.467     1       0.1070  150.082             4.0    0.470   \n",
            "2015    0.0913    -2.735     1       0.1330  150.011             4.0    0.623   \n",
            "2016    0.2180    -6.221     1       0.1410  190.013             4.0    0.402   \n",
            "\n",
            "      target                            song_title            artist  \n",
            "0          1                              Mask Off            Future  \n",
            "1          1                               Redbone  Childish Gambino  \n",
            "2          1                          Xanny Family            Future  \n",
            "3          1                        Master Of None       Beach House  \n",
            "4          1                        Parallel Lines       Junior Boys  \n",
            "...      ...                                   ...               ...  \n",
            "2012       0   Like A Bitch - Kill The Noise Remix    Kill The Noise  \n",
            "2013       0                                 Candy    Dillon Francis  \n",
            "2014       0  Habit - Dack Janiels & Wenzday Remix          Rain Man  \n",
            "2015       0                         First Contact        Twin Moons  \n",
            "2016       0                    I Wanna Get Better         Bleachers  \n",
            "\n",
            "[2017 rows x 16 columns]\n"
          ]
        }
      ]
    },
    {
      "cell_type": "code",
      "source": [
        "print(data.shape)"
      ],
      "metadata": {
        "colab": {
          "base_uri": "https://localhost:8080/"
        },
        "id": "5EBUva_hxqYO",
        "outputId": "89d85e6c-e76f-48c0-ef7e-9b65e6707890"
      },
      "execution_count": 22,
      "outputs": [
        {
          "output_type": "stream",
          "name": "stdout",
          "text": [
            "(2017, 17)\n"
          ]
        }
      ]
    },
    {
      "cell_type": "code",
      "source": [
        "print(data.info())"
      ],
      "metadata": {
        "colab": {
          "base_uri": "https://localhost:8080/"
        },
        "id": "xiX8xAjLxzWq",
        "outputId": "ece98995-b7ce-4baa-e619-ad77f55bb6ab"
      },
      "execution_count": 23,
      "outputs": [
        {
          "output_type": "stream",
          "name": "stdout",
          "text": [
            "<class 'pandas.core.frame.DataFrame'>\n",
            "RangeIndex: 2017 entries, 0 to 2016\n",
            "Data columns (total 17 columns):\n",
            " #   Column            Non-Null Count  Dtype  \n",
            "---  ------            --------------  -----  \n",
            " 0   Unnamed: 0        2017 non-null   int64  \n",
            " 1   acousticness      2017 non-null   float64\n",
            " 2   danceability      2017 non-null   float64\n",
            " 3   duration_ms       2017 non-null   int64  \n",
            " 4   energy            2017 non-null   float64\n",
            " 5   instrumentalness  2017 non-null   float64\n",
            " 6   key               2017 non-null   int64  \n",
            " 7   liveness          2017 non-null   float64\n",
            " 8   loudness          2017 non-null   float64\n",
            " 9   mode              2017 non-null   int64  \n",
            " 10  speechiness       2017 non-null   float64\n",
            " 11  tempo             2017 non-null   float64\n",
            " 12  time_signature    2017 non-null   float64\n",
            " 13  valence           2017 non-null   float64\n",
            " 14  target            2017 non-null   int64  \n",
            " 15  song_title        2017 non-null   object \n",
            " 16  artist            2017 non-null   object \n",
            "dtypes: float64(10), int64(5), object(2)\n",
            "memory usage: 268.0+ KB\n",
            "None\n"
          ]
        }
      ]
    },
    {
      "cell_type": "code",
      "source": [
        "print(data.describe())"
      ],
      "metadata": {
        "colab": {
          "base_uri": "https://localhost:8080/"
        },
        "id": "WMpvCUr3yARz",
        "outputId": "f3965565-08d2-4f3b-a417-bd8b8440bb0b"
      },
      "execution_count": null,
      "outputs": [
        {
          "output_type": "stream",
          "name": "stdout",
          "text": [
            "        Unnamed: 0  acousticness  danceability   duration_ms       energy  \\\n",
            "count  2017.000000   2017.000000   2017.000000  2.017000e+03  2017.000000   \n",
            "mean   1008.000000      0.187590      0.618422  2.463062e+05     0.681577   \n",
            "std     582.402066      0.259989      0.161029  8.198181e+04     0.210273   \n",
            "min       0.000000      0.000003      0.122000  1.604200e+04     0.014800   \n",
            "25%     504.000000      0.009630      0.514000  2.000150e+05     0.563000   \n",
            "50%    1008.000000      0.063300      0.631000  2.292610e+05     0.715000   \n",
            "75%    1512.000000      0.265000      0.738000  2.703330e+05     0.846000   \n",
            "max    2016.000000      0.995000      0.984000  1.004627e+06     0.998000   \n",
            "\n",
            "       instrumentalness          key     liveness     loudness         mode  \\\n",
            "count       2017.000000  2017.000000  2017.000000  2017.000000  2017.000000   \n",
            "mean           0.133286     5.342588     0.190844    -7.085624     0.612295   \n",
            "std            0.273162     3.648240     0.155453     3.761684     0.487347   \n",
            "min            0.000000     0.000000     0.018800   -33.097000     0.000000   \n",
            "25%            0.000000     2.000000     0.092300    -8.394000     0.000000   \n",
            "50%            0.000076     6.000000     0.127000    -6.248000     1.000000   \n",
            "75%            0.054000     9.000000     0.247000    -4.746000     1.000000   \n",
            "max            0.976000    11.000000     0.969000    -0.307000     1.000000   \n",
            "\n",
            "       speechiness        tempo  time_signature      valence       target  \n",
            "count  2017.000000  2017.000000     2017.000000  2017.000000  2017.000000  \n",
            "mean      0.092664   121.603272        3.968270     0.496815     0.505702  \n",
            "std       0.089931    26.685604        0.255853     0.247195     0.500091  \n",
            "min       0.023100    47.859000        1.000000     0.034800     0.000000  \n",
            "25%       0.037500   100.189000        4.000000     0.295000     0.000000  \n",
            "50%       0.054900   121.427000        4.000000     0.492000     1.000000  \n",
            "75%       0.108000   137.849000        4.000000     0.691000     1.000000  \n",
            "max       0.816000   219.331000        5.000000     0.992000     1.000000  \n"
          ]
        }
      ]
    },
    {
      "cell_type": "code",
      "source": [
        "print(data['danceability'].value_counts())\n",
        "print(\"============================\")\n",
        "print(data['energy'].value_counts())"
      ],
      "metadata": {
        "colab": {
          "base_uri": "https://localhost:8080/"
        },
        "id": "d0Qihb6HyjsM",
        "outputId": "32fab4f6-455b-4674-f2b5-d2f42c041152"
      },
      "execution_count": 24,
      "outputs": [
        {
          "output_type": "stream",
          "name": "stdout",
          "text": [
            "0.683    12\n",
            "0.760    11\n",
            "0.704    11\n",
            "0.646    10\n",
            "0.614    10\n",
            "         ..\n",
            "0.334     1\n",
            "0.860     1\n",
            "0.363     1\n",
            "0.643     1\n",
            "0.904     1\n",
            "Name: danceability, Length: 632, dtype: int64\n",
            "============================\n",
            "0.857    10\n",
            "0.657     9\n",
            "0.860     9\n",
            "0.770     9\n",
            "0.793     9\n",
            "         ..\n",
            "0.618     1\n",
            "0.726     1\n",
            "0.317     1\n",
            "0.994     1\n",
            "0.932     1\n",
            "Name: energy, Length: 719, dtype: int64\n"
          ]
        }
      ]
    },
    {
      "cell_type": "code",
      "source": [
        "data.columns"
      ],
      "metadata": {
        "colab": {
          "base_uri": "https://localhost:8080/"
        },
        "id": "2rHPXs7t5J5r",
        "outputId": "e5f1fbb6-d3c1-40a5-9ca0-98302e070903"
      },
      "execution_count": 35,
      "outputs": [
        {
          "output_type": "execute_result",
          "data": {
            "text/plain": [
              "Index(['acousticness', 'danceability', 'duration_ms', 'energy',\n",
              "       'instrumentalness', 'key', 'liveness', 'loudness', 'mode',\n",
              "       'speechiness', 'tempo', 'time_signature', 'valence', 'target',\n",
              "       'song_title', 'artist'],\n",
              "      dtype='object')"
            ]
          },
          "metadata": {},
          "execution_count": 35
        }
      ]
    },
    {
      "cell_type": "markdown",
      "source": [
        "# 3.&nbsp;Data Cleaning (interpretability)"
      ],
      "metadata": {
        "id": "5l-pYjWiy0TX"
      }
    },
    {
      "cell_type": "markdown",
      "source": [
        "# 4.&nbsp;Data Cleaning (reduction)"
      ],
      "metadata": {
        "id": "LDCm_efBzFJL"
      }
    },
    {
      "cell_type": "code",
      "source": [
        "# here i've managed to remove the column i wanted to remove, but when i refreshed again there was error.\n",
        "# but it worked in the end, becaus from now on there's no column \"unnamned 0\"\n",
        "\n",
        "data.drop(\"Unnamed: 0\",axis=1,inplace=True)"
      ],
      "metadata": {
        "colab": {
          "base_uri": "https://localhost:8080/",
          "height": 318
        },
        "id": "Zc0ON-ey3dqU",
        "outputId": "213f056d-aa5f-4fd7-b051-ecaac2f4ed7d"
      },
      "execution_count": 36,
      "outputs": [
        {
          "output_type": "error",
          "ename": "KeyError",
          "evalue": "ignored",
          "traceback": [
            "\u001b[0;31m---------------------------------------------------------------------------\u001b[0m",
            "\u001b[0;31mKeyError\u001b[0m                                  Traceback (most recent call last)",
            "\u001b[0;32m<ipython-input-36-1cdc07d5423b>\u001b[0m in \u001b[0;36m<cell line: 1>\u001b[0;34m()\u001b[0m\n\u001b[0;32m----> 1\u001b[0;31m \u001b[0mdata\u001b[0m\u001b[0;34m.\u001b[0m\u001b[0mdrop\u001b[0m\u001b[0;34m(\u001b[0m\u001b[0;34m\"Unnamed: 0\"\u001b[0m\u001b[0;34m,\u001b[0m\u001b[0maxis\u001b[0m\u001b[0;34m=\u001b[0m\u001b[0;36m1\u001b[0m\u001b[0;34m,\u001b[0m\u001b[0minplace\u001b[0m\u001b[0;34m=\u001b[0m\u001b[0;32mTrue\u001b[0m\u001b[0;34m)\u001b[0m\u001b[0;34m\u001b[0m\u001b[0;34m\u001b[0m\u001b[0m\n\u001b[0m",
            "\u001b[0;32m/usr/local/lib/python3.9/dist-packages/pandas/util/_decorators.py\u001b[0m in \u001b[0;36mwrapper\u001b[0;34m(*args, **kwargs)\u001b[0m\n\u001b[1;32m    329\u001b[0m                     \u001b[0mstacklevel\u001b[0m\u001b[0;34m=\u001b[0m\u001b[0mfind_stack_level\u001b[0m\u001b[0;34m(\u001b[0m\u001b[0;34m)\u001b[0m\u001b[0;34m,\u001b[0m\u001b[0;34m\u001b[0m\u001b[0;34m\u001b[0m\u001b[0m\n\u001b[1;32m    330\u001b[0m                 )\n\u001b[0;32m--> 331\u001b[0;31m             \u001b[0;32mreturn\u001b[0m \u001b[0mfunc\u001b[0m\u001b[0;34m(\u001b[0m\u001b[0;34m*\u001b[0m\u001b[0margs\u001b[0m\u001b[0;34m,\u001b[0m \u001b[0;34m**\u001b[0m\u001b[0mkwargs\u001b[0m\u001b[0;34m)\u001b[0m\u001b[0;34m\u001b[0m\u001b[0;34m\u001b[0m\u001b[0m\n\u001b[0m\u001b[1;32m    332\u001b[0m \u001b[0;34m\u001b[0m\u001b[0m\n\u001b[1;32m    333\u001b[0m         \u001b[0;31m# error: \"Callable[[VarArg(Any), KwArg(Any)], Any]\" has no\u001b[0m\u001b[0;34m\u001b[0m\u001b[0;34m\u001b[0m\u001b[0m\n",
            "\u001b[0;32m/usr/local/lib/python3.9/dist-packages/pandas/core/frame.py\u001b[0m in \u001b[0;36mdrop\u001b[0;34m(self, labels, axis, index, columns, level, inplace, errors)\u001b[0m\n\u001b[1;32m   5397\u001b[0m                 \u001b[0mweight\u001b[0m  \u001b[0;36m1.0\u001b[0m     \u001b[0;36m0.8\u001b[0m\u001b[0;34m\u001b[0m\u001b[0;34m\u001b[0m\u001b[0m\n\u001b[1;32m   5398\u001b[0m         \"\"\"\n\u001b[0;32m-> 5399\u001b[0;31m         return super().drop(\n\u001b[0m\u001b[1;32m   5400\u001b[0m             \u001b[0mlabels\u001b[0m\u001b[0;34m=\u001b[0m\u001b[0mlabels\u001b[0m\u001b[0;34m,\u001b[0m\u001b[0;34m\u001b[0m\u001b[0;34m\u001b[0m\u001b[0m\n\u001b[1;32m   5401\u001b[0m             \u001b[0maxis\u001b[0m\u001b[0;34m=\u001b[0m\u001b[0maxis\u001b[0m\u001b[0;34m,\u001b[0m\u001b[0;34m\u001b[0m\u001b[0;34m\u001b[0m\u001b[0m\n",
            "\u001b[0;32m/usr/local/lib/python3.9/dist-packages/pandas/util/_decorators.py\u001b[0m in \u001b[0;36mwrapper\u001b[0;34m(*args, **kwargs)\u001b[0m\n\u001b[1;32m    329\u001b[0m                     \u001b[0mstacklevel\u001b[0m\u001b[0;34m=\u001b[0m\u001b[0mfind_stack_level\u001b[0m\u001b[0;34m(\u001b[0m\u001b[0;34m)\u001b[0m\u001b[0;34m,\u001b[0m\u001b[0;34m\u001b[0m\u001b[0;34m\u001b[0m\u001b[0m\n\u001b[1;32m    330\u001b[0m                 )\n\u001b[0;32m--> 331\u001b[0;31m             \u001b[0;32mreturn\u001b[0m \u001b[0mfunc\u001b[0m\u001b[0;34m(\u001b[0m\u001b[0;34m*\u001b[0m\u001b[0margs\u001b[0m\u001b[0;34m,\u001b[0m \u001b[0;34m**\u001b[0m\u001b[0mkwargs\u001b[0m\u001b[0;34m)\u001b[0m\u001b[0;34m\u001b[0m\u001b[0;34m\u001b[0m\u001b[0m\n\u001b[0m\u001b[1;32m    332\u001b[0m \u001b[0;34m\u001b[0m\u001b[0m\n\u001b[1;32m    333\u001b[0m         \u001b[0;31m# error: \"Callable[[VarArg(Any), KwArg(Any)], Any]\" has no\u001b[0m\u001b[0;34m\u001b[0m\u001b[0;34m\u001b[0m\u001b[0m\n",
            "\u001b[0;32m/usr/local/lib/python3.9/dist-packages/pandas/core/generic.py\u001b[0m in \u001b[0;36mdrop\u001b[0;34m(self, labels, axis, index, columns, level, inplace, errors)\u001b[0m\n\u001b[1;32m   4503\u001b[0m         \u001b[0;32mfor\u001b[0m \u001b[0maxis\u001b[0m\u001b[0;34m,\u001b[0m \u001b[0mlabels\u001b[0m \u001b[0;32min\u001b[0m \u001b[0maxes\u001b[0m\u001b[0;34m.\u001b[0m\u001b[0mitems\u001b[0m\u001b[0;34m(\u001b[0m\u001b[0;34m)\u001b[0m\u001b[0;34m:\u001b[0m\u001b[0;34m\u001b[0m\u001b[0;34m\u001b[0m\u001b[0m\n\u001b[1;32m   4504\u001b[0m             \u001b[0;32mif\u001b[0m \u001b[0mlabels\u001b[0m \u001b[0;32mis\u001b[0m \u001b[0;32mnot\u001b[0m \u001b[0;32mNone\u001b[0m\u001b[0;34m:\u001b[0m\u001b[0;34m\u001b[0m\u001b[0;34m\u001b[0m\u001b[0m\n\u001b[0;32m-> 4505\u001b[0;31m                 \u001b[0mobj\u001b[0m \u001b[0;34m=\u001b[0m \u001b[0mobj\u001b[0m\u001b[0;34m.\u001b[0m\u001b[0m_drop_axis\u001b[0m\u001b[0;34m(\u001b[0m\u001b[0mlabels\u001b[0m\u001b[0;34m,\u001b[0m \u001b[0maxis\u001b[0m\u001b[0;34m,\u001b[0m \u001b[0mlevel\u001b[0m\u001b[0;34m=\u001b[0m\u001b[0mlevel\u001b[0m\u001b[0;34m,\u001b[0m \u001b[0merrors\u001b[0m\u001b[0;34m=\u001b[0m\u001b[0merrors\u001b[0m\u001b[0;34m)\u001b[0m\u001b[0;34m\u001b[0m\u001b[0;34m\u001b[0m\u001b[0m\n\u001b[0m\u001b[1;32m   4506\u001b[0m \u001b[0;34m\u001b[0m\u001b[0m\n\u001b[1;32m   4507\u001b[0m         \u001b[0;32mif\u001b[0m \u001b[0minplace\u001b[0m\u001b[0;34m:\u001b[0m\u001b[0;34m\u001b[0m\u001b[0;34m\u001b[0m\u001b[0m\n",
            "\u001b[0;32m/usr/local/lib/python3.9/dist-packages/pandas/core/generic.py\u001b[0m in \u001b[0;36m_drop_axis\u001b[0;34m(self, labels, axis, level, errors, only_slice)\u001b[0m\n\u001b[1;32m   4544\u001b[0m                 \u001b[0mnew_axis\u001b[0m \u001b[0;34m=\u001b[0m \u001b[0maxis\u001b[0m\u001b[0;34m.\u001b[0m\u001b[0mdrop\u001b[0m\u001b[0;34m(\u001b[0m\u001b[0mlabels\u001b[0m\u001b[0;34m,\u001b[0m \u001b[0mlevel\u001b[0m\u001b[0;34m=\u001b[0m\u001b[0mlevel\u001b[0m\u001b[0;34m,\u001b[0m \u001b[0merrors\u001b[0m\u001b[0;34m=\u001b[0m\u001b[0merrors\u001b[0m\u001b[0;34m)\u001b[0m\u001b[0;34m\u001b[0m\u001b[0;34m\u001b[0m\u001b[0m\n\u001b[1;32m   4545\u001b[0m             \u001b[0;32melse\u001b[0m\u001b[0;34m:\u001b[0m\u001b[0;34m\u001b[0m\u001b[0;34m\u001b[0m\u001b[0m\n\u001b[0;32m-> 4546\u001b[0;31m                 \u001b[0mnew_axis\u001b[0m \u001b[0;34m=\u001b[0m \u001b[0maxis\u001b[0m\u001b[0;34m.\u001b[0m\u001b[0mdrop\u001b[0m\u001b[0;34m(\u001b[0m\u001b[0mlabels\u001b[0m\u001b[0;34m,\u001b[0m \u001b[0merrors\u001b[0m\u001b[0;34m=\u001b[0m\u001b[0merrors\u001b[0m\u001b[0;34m)\u001b[0m\u001b[0;34m\u001b[0m\u001b[0;34m\u001b[0m\u001b[0m\n\u001b[0m\u001b[1;32m   4547\u001b[0m             \u001b[0mindexer\u001b[0m \u001b[0;34m=\u001b[0m \u001b[0maxis\u001b[0m\u001b[0;34m.\u001b[0m\u001b[0mget_indexer\u001b[0m\u001b[0;34m(\u001b[0m\u001b[0mnew_axis\u001b[0m\u001b[0;34m)\u001b[0m\u001b[0;34m\u001b[0m\u001b[0;34m\u001b[0m\u001b[0m\n\u001b[1;32m   4548\u001b[0m \u001b[0;34m\u001b[0m\u001b[0m\n",
            "\u001b[0;32m/usr/local/lib/python3.9/dist-packages/pandas/core/indexes/base.py\u001b[0m in \u001b[0;36mdrop\u001b[0;34m(self, labels, errors)\u001b[0m\n\u001b[1;32m   6932\u001b[0m         \u001b[0;32mif\u001b[0m \u001b[0mmask\u001b[0m\u001b[0;34m.\u001b[0m\u001b[0many\u001b[0m\u001b[0;34m(\u001b[0m\u001b[0;34m)\u001b[0m\u001b[0;34m:\u001b[0m\u001b[0;34m\u001b[0m\u001b[0;34m\u001b[0m\u001b[0m\n\u001b[1;32m   6933\u001b[0m             \u001b[0;32mif\u001b[0m \u001b[0merrors\u001b[0m \u001b[0;34m!=\u001b[0m \u001b[0;34m\"ignore\"\u001b[0m\u001b[0;34m:\u001b[0m\u001b[0;34m\u001b[0m\u001b[0;34m\u001b[0m\u001b[0m\n\u001b[0;32m-> 6934\u001b[0;31m                 \u001b[0;32mraise\u001b[0m \u001b[0mKeyError\u001b[0m\u001b[0;34m(\u001b[0m\u001b[0;34mf\"{list(labels[mask])} not found in axis\"\u001b[0m\u001b[0;34m)\u001b[0m\u001b[0;34m\u001b[0m\u001b[0;34m\u001b[0m\u001b[0m\n\u001b[0m\u001b[1;32m   6935\u001b[0m             \u001b[0mindexer\u001b[0m \u001b[0;34m=\u001b[0m \u001b[0mindexer\u001b[0m\u001b[0;34m[\u001b[0m\u001b[0;34m~\u001b[0m\u001b[0mmask\u001b[0m\u001b[0;34m]\u001b[0m\u001b[0;34m\u001b[0m\u001b[0;34m\u001b[0m\u001b[0m\n\u001b[1;32m   6936\u001b[0m         \u001b[0;32mreturn\u001b[0m \u001b[0mself\u001b[0m\u001b[0;34m.\u001b[0m\u001b[0mdelete\u001b[0m\u001b[0;34m(\u001b[0m\u001b[0mindexer\u001b[0m\u001b[0;34m)\u001b[0m\u001b[0;34m\u001b[0m\u001b[0;34m\u001b[0m\u001b[0m\n",
            "\u001b[0;31mKeyError\u001b[0m: \"['Unnamed: 0'] not found in axis\""
          ]
        }
      ]
    },
    {
      "cell_type": "code",
      "source": [
        "data.describe()"
      ],
      "metadata": {
        "colab": {
          "base_uri": "https://localhost:8080/",
          "height": 364
        },
        "id": "vms4zOZb5XmW",
        "outputId": "1876c17b-eb37-45f3-831d-7417cefb60f0"
      },
      "execution_count": 37,
      "outputs": [
        {
          "output_type": "execute_result",
          "data": {
            "text/plain": [
              "       acousticness  danceability   duration_ms       energy  \\\n",
              "count   2017.000000   2017.000000  2.017000e+03  2017.000000   \n",
              "mean       0.187590      0.618422  2.463062e+05     0.681577   \n",
              "std        0.259989      0.161029  8.198181e+04     0.210273   \n",
              "min        0.000003      0.122000  1.604200e+04     0.014800   \n",
              "25%        0.009630      0.514000  2.000150e+05     0.563000   \n",
              "50%        0.063300      0.631000  2.292610e+05     0.715000   \n",
              "75%        0.265000      0.738000  2.703330e+05     0.846000   \n",
              "max        0.995000      0.984000  1.004627e+06     0.998000   \n",
              "\n",
              "       instrumentalness          key     liveness     loudness         mode  \\\n",
              "count       2017.000000  2017.000000  2017.000000  2017.000000  2017.000000   \n",
              "mean           0.133286     5.342588     0.190844    -7.085624     0.612295   \n",
              "std            0.273162     3.648240     0.155453     3.761684     0.487347   \n",
              "min            0.000000     0.000000     0.018800   -33.097000     0.000000   \n",
              "25%            0.000000     2.000000     0.092300    -8.394000     0.000000   \n",
              "50%            0.000076     6.000000     0.127000    -6.248000     1.000000   \n",
              "75%            0.054000     9.000000     0.247000    -4.746000     1.000000   \n",
              "max            0.976000    11.000000     0.969000    -0.307000     1.000000   \n",
              "\n",
              "       speechiness        tempo  time_signature      valence       target  \n",
              "count  2017.000000  2017.000000     2017.000000  2017.000000  2017.000000  \n",
              "mean      0.092664   121.603272        3.968270     0.496815     0.505702  \n",
              "std       0.089931    26.685604        0.255853     0.247195     0.500091  \n",
              "min       0.023100    47.859000        1.000000     0.034800     0.000000  \n",
              "25%       0.037500   100.189000        4.000000     0.295000     0.000000  \n",
              "50%       0.054900   121.427000        4.000000     0.492000     1.000000  \n",
              "75%       0.108000   137.849000        4.000000     0.691000     1.000000  \n",
              "max       0.816000   219.331000        5.000000     0.992000     1.000000  "
            ],
            "text/html": [
              "\n",
              "  <div id=\"df-f8116e76-48ee-4b01-81a8-d028a27d5513\">\n",
              "    <div class=\"colab-df-container\">\n",
              "      <div>\n",
              "<style scoped>\n",
              "    .dataframe tbody tr th:only-of-type {\n",
              "        vertical-align: middle;\n",
              "    }\n",
              "\n",
              "    .dataframe tbody tr th {\n",
              "        vertical-align: top;\n",
              "    }\n",
              "\n",
              "    .dataframe thead th {\n",
              "        text-align: right;\n",
              "    }\n",
              "</style>\n",
              "<table border=\"1\" class=\"dataframe\">\n",
              "  <thead>\n",
              "    <tr style=\"text-align: right;\">\n",
              "      <th></th>\n",
              "      <th>acousticness</th>\n",
              "      <th>danceability</th>\n",
              "      <th>duration_ms</th>\n",
              "      <th>energy</th>\n",
              "      <th>instrumentalness</th>\n",
              "      <th>key</th>\n",
              "      <th>liveness</th>\n",
              "      <th>loudness</th>\n",
              "      <th>mode</th>\n",
              "      <th>speechiness</th>\n",
              "      <th>tempo</th>\n",
              "      <th>time_signature</th>\n",
              "      <th>valence</th>\n",
              "      <th>target</th>\n",
              "    </tr>\n",
              "  </thead>\n",
              "  <tbody>\n",
              "    <tr>\n",
              "      <th>count</th>\n",
              "      <td>2017.000000</td>\n",
              "      <td>2017.000000</td>\n",
              "      <td>2.017000e+03</td>\n",
              "      <td>2017.000000</td>\n",
              "      <td>2017.000000</td>\n",
              "      <td>2017.000000</td>\n",
              "      <td>2017.000000</td>\n",
              "      <td>2017.000000</td>\n",
              "      <td>2017.000000</td>\n",
              "      <td>2017.000000</td>\n",
              "      <td>2017.000000</td>\n",
              "      <td>2017.000000</td>\n",
              "      <td>2017.000000</td>\n",
              "      <td>2017.000000</td>\n",
              "    </tr>\n",
              "    <tr>\n",
              "      <th>mean</th>\n",
              "      <td>0.187590</td>\n",
              "      <td>0.618422</td>\n",
              "      <td>2.463062e+05</td>\n",
              "      <td>0.681577</td>\n",
              "      <td>0.133286</td>\n",
              "      <td>5.342588</td>\n",
              "      <td>0.190844</td>\n",
              "      <td>-7.085624</td>\n",
              "      <td>0.612295</td>\n",
              "      <td>0.092664</td>\n",
              "      <td>121.603272</td>\n",
              "      <td>3.968270</td>\n",
              "      <td>0.496815</td>\n",
              "      <td>0.505702</td>\n",
              "    </tr>\n",
              "    <tr>\n",
              "      <th>std</th>\n",
              "      <td>0.259989</td>\n",
              "      <td>0.161029</td>\n",
              "      <td>8.198181e+04</td>\n",
              "      <td>0.210273</td>\n",
              "      <td>0.273162</td>\n",
              "      <td>3.648240</td>\n",
              "      <td>0.155453</td>\n",
              "      <td>3.761684</td>\n",
              "      <td>0.487347</td>\n",
              "      <td>0.089931</td>\n",
              "      <td>26.685604</td>\n",
              "      <td>0.255853</td>\n",
              "      <td>0.247195</td>\n",
              "      <td>0.500091</td>\n",
              "    </tr>\n",
              "    <tr>\n",
              "      <th>min</th>\n",
              "      <td>0.000003</td>\n",
              "      <td>0.122000</td>\n",
              "      <td>1.604200e+04</td>\n",
              "      <td>0.014800</td>\n",
              "      <td>0.000000</td>\n",
              "      <td>0.000000</td>\n",
              "      <td>0.018800</td>\n",
              "      <td>-33.097000</td>\n",
              "      <td>0.000000</td>\n",
              "      <td>0.023100</td>\n",
              "      <td>47.859000</td>\n",
              "      <td>1.000000</td>\n",
              "      <td>0.034800</td>\n",
              "      <td>0.000000</td>\n",
              "    </tr>\n",
              "    <tr>\n",
              "      <th>25%</th>\n",
              "      <td>0.009630</td>\n",
              "      <td>0.514000</td>\n",
              "      <td>2.000150e+05</td>\n",
              "      <td>0.563000</td>\n",
              "      <td>0.000000</td>\n",
              "      <td>2.000000</td>\n",
              "      <td>0.092300</td>\n",
              "      <td>-8.394000</td>\n",
              "      <td>0.000000</td>\n",
              "      <td>0.037500</td>\n",
              "      <td>100.189000</td>\n",
              "      <td>4.000000</td>\n",
              "      <td>0.295000</td>\n",
              "      <td>0.000000</td>\n",
              "    </tr>\n",
              "    <tr>\n",
              "      <th>50%</th>\n",
              "      <td>0.063300</td>\n",
              "      <td>0.631000</td>\n",
              "      <td>2.292610e+05</td>\n",
              "      <td>0.715000</td>\n",
              "      <td>0.000076</td>\n",
              "      <td>6.000000</td>\n",
              "      <td>0.127000</td>\n",
              "      <td>-6.248000</td>\n",
              "      <td>1.000000</td>\n",
              "      <td>0.054900</td>\n",
              "      <td>121.427000</td>\n",
              "      <td>4.000000</td>\n",
              "      <td>0.492000</td>\n",
              "      <td>1.000000</td>\n",
              "    </tr>\n",
              "    <tr>\n",
              "      <th>75%</th>\n",
              "      <td>0.265000</td>\n",
              "      <td>0.738000</td>\n",
              "      <td>2.703330e+05</td>\n",
              "      <td>0.846000</td>\n",
              "      <td>0.054000</td>\n",
              "      <td>9.000000</td>\n",
              "      <td>0.247000</td>\n",
              "      <td>-4.746000</td>\n",
              "      <td>1.000000</td>\n",
              "      <td>0.108000</td>\n",
              "      <td>137.849000</td>\n",
              "      <td>4.000000</td>\n",
              "      <td>0.691000</td>\n",
              "      <td>1.000000</td>\n",
              "    </tr>\n",
              "    <tr>\n",
              "      <th>max</th>\n",
              "      <td>0.995000</td>\n",
              "      <td>0.984000</td>\n",
              "      <td>1.004627e+06</td>\n",
              "      <td>0.998000</td>\n",
              "      <td>0.976000</td>\n",
              "      <td>11.000000</td>\n",
              "      <td>0.969000</td>\n",
              "      <td>-0.307000</td>\n",
              "      <td>1.000000</td>\n",
              "      <td>0.816000</td>\n",
              "      <td>219.331000</td>\n",
              "      <td>5.000000</td>\n",
              "      <td>0.992000</td>\n",
              "      <td>1.000000</td>\n",
              "    </tr>\n",
              "  </tbody>\n",
              "</table>\n",
              "</div>\n",
              "      <button class=\"colab-df-convert\" onclick=\"convertToInteractive('df-f8116e76-48ee-4b01-81a8-d028a27d5513')\"\n",
              "              title=\"Convert this dataframe to an interactive table.\"\n",
              "              style=\"display:none;\">\n",
              "        \n",
              "  <svg xmlns=\"http://www.w3.org/2000/svg\" height=\"24px\"viewBox=\"0 0 24 24\"\n",
              "       width=\"24px\">\n",
              "    <path d=\"M0 0h24v24H0V0z\" fill=\"none\"/>\n",
              "    <path d=\"M18.56 5.44l.94 2.06.94-2.06 2.06-.94-2.06-.94-.94-2.06-.94 2.06-2.06.94zm-11 1L8.5 8.5l.94-2.06 2.06-.94-2.06-.94L8.5 2.5l-.94 2.06-2.06.94zm10 10l.94 2.06.94-2.06 2.06-.94-2.06-.94-.94-2.06-.94 2.06-2.06.94z\"/><path d=\"M17.41 7.96l-1.37-1.37c-.4-.4-.92-.59-1.43-.59-.52 0-1.04.2-1.43.59L10.3 9.45l-7.72 7.72c-.78.78-.78 2.05 0 2.83L4 21.41c.39.39.9.59 1.41.59.51 0 1.02-.2 1.41-.59l7.78-7.78 2.81-2.81c.8-.78.8-2.07 0-2.86zM5.41 20L4 18.59l7.72-7.72 1.47 1.35L5.41 20z\"/>\n",
              "  </svg>\n",
              "      </button>\n",
              "      \n",
              "  <style>\n",
              "    .colab-df-container {\n",
              "      display:flex;\n",
              "      flex-wrap:wrap;\n",
              "      gap: 12px;\n",
              "    }\n",
              "\n",
              "    .colab-df-convert {\n",
              "      background-color: #E8F0FE;\n",
              "      border: none;\n",
              "      border-radius: 50%;\n",
              "      cursor: pointer;\n",
              "      display: none;\n",
              "      fill: #1967D2;\n",
              "      height: 32px;\n",
              "      padding: 0 0 0 0;\n",
              "      width: 32px;\n",
              "    }\n",
              "\n",
              "    .colab-df-convert:hover {\n",
              "      background-color: #E2EBFA;\n",
              "      box-shadow: 0px 1px 2px rgba(60, 64, 67, 0.3), 0px 1px 3px 1px rgba(60, 64, 67, 0.15);\n",
              "      fill: #174EA6;\n",
              "    }\n",
              "\n",
              "    [theme=dark] .colab-df-convert {\n",
              "      background-color: #3B4455;\n",
              "      fill: #D2E3FC;\n",
              "    }\n",
              "\n",
              "    [theme=dark] .colab-df-convert:hover {\n",
              "      background-color: #434B5C;\n",
              "      box-shadow: 0px 1px 3px 1px rgba(0, 0, 0, 0.15);\n",
              "      filter: drop-shadow(0px 1px 2px rgba(0, 0, 0, 0.3));\n",
              "      fill: #FFFFFF;\n",
              "    }\n",
              "  </style>\n",
              "\n",
              "      <script>\n",
              "        const buttonEl =\n",
              "          document.querySelector('#df-f8116e76-48ee-4b01-81a8-d028a27d5513 button.colab-df-convert');\n",
              "        buttonEl.style.display =\n",
              "          google.colab.kernel.accessAllowed ? 'block' : 'none';\n",
              "\n",
              "        async function convertToInteractive(key) {\n",
              "          const element = document.querySelector('#df-f8116e76-48ee-4b01-81a8-d028a27d5513');\n",
              "          const dataTable =\n",
              "            await google.colab.kernel.invokeFunction('convertToInteractive',\n",
              "                                                     [key], {});\n",
              "          if (!dataTable) return;\n",
              "\n",
              "          const docLinkHtml = 'Like what you see? Visit the ' +\n",
              "            '<a target=\"_blank\" href=https://colab.research.google.com/notebooks/data_table.ipynb>data table notebook</a>'\n",
              "            + ' to learn more about interactive tables.';\n",
              "          element.innerHTML = '';\n",
              "          dataTable['output_type'] = 'display_data';\n",
              "          await google.colab.output.renderOutput(dataTable, element);\n",
              "          const docLink = document.createElement('div');\n",
              "          docLink.innerHTML = docLinkHtml;\n",
              "          element.appendChild(docLink);\n",
              "        }\n",
              "      </script>\n",
              "    </div>\n",
              "  </div>\n",
              "  "
            ]
          },
          "metadata": {},
          "execution_count": 37
        }
      ]
    },
    {
      "cell_type": "markdown",
      "source": [
        "# 7.&nbsp;Data Exploring\n"
      ],
      "metadata": {
        "id": "fD30B1eeF8QF"
      }
    },
    {
      "cell_type": "code",
      "source": [
        "data.info()"
      ],
      "metadata": {
        "id": "SFugLB7H3zAz",
        "colab": {
          "base_uri": "https://localhost:8080/"
        },
        "outputId": "06b6dbcf-5ca9-4139-b8de-22f6f878bafe"
      },
      "execution_count": 38,
      "outputs": [
        {
          "output_type": "stream",
          "name": "stdout",
          "text": [
            "<class 'pandas.core.frame.DataFrame'>\n",
            "RangeIndex: 2017 entries, 0 to 2016\n",
            "Data columns (total 16 columns):\n",
            " #   Column            Non-Null Count  Dtype  \n",
            "---  ------            --------------  -----  \n",
            " 0   acousticness      2017 non-null   float64\n",
            " 1   danceability      2017 non-null   float64\n",
            " 2   duration_ms       2017 non-null   int64  \n",
            " 3   energy            2017 non-null   float64\n",
            " 4   instrumentalness  2017 non-null   float64\n",
            " 5   key               2017 non-null   int64  \n",
            " 6   liveness          2017 non-null   float64\n",
            " 7   loudness          2017 non-null   float64\n",
            " 8   mode              2017 non-null   int64  \n",
            " 9   speechiness       2017 non-null   float64\n",
            " 10  tempo             2017 non-null   float64\n",
            " 11  time_signature    2017 non-null   float64\n",
            " 12  valence           2017 non-null   float64\n",
            " 13  target            2017 non-null   int64  \n",
            " 14  song_title        2017 non-null   object \n",
            " 15  artist            2017 non-null   object \n",
            "dtypes: float64(10), int64(4), object(2)\n",
            "memory usage: 252.2+ KB\n"
          ]
        }
      ]
    },
    {
      "cell_type": "code",
      "source": [
        "# What are the 5 most danceable songs?\n",
        "top_artists_danceable_songs = data[[\"danceability\",\"song_title\",\"artist\"]].sort_values(by=\"danceability\",ascending=False)[:5]\n",
        "top_artists_danceable_songs"
      ],
      "metadata": {
        "colab": {
          "base_uri": "https://localhost:8080/",
          "height": 206
        },
        "id": "WYuUE_na8_O0",
        "outputId": "09f18a80-3409-4d0b-8751-8add739b8090"
      },
      "execution_count": 42,
      "outputs": [
        {
          "output_type": "execute_result",
          "data": {
            "text/plain": [
              "      danceability              song_title             artist\n",
              "1433         0.984  Flashwind - Radio Edit       Ben Remember\n",
              "1901         0.967                SexyBack  Justin Timberlake\n",
              "604          0.962       Check Me Out Like          Blaqstarr\n",
              "32           0.959             Best Friend         Young Thug\n",
              "1957         0.959            Ice Ice Baby        Vanilla Ice"
            ],
            "text/html": [
              "\n",
              "  <div id=\"df-b7b23db2-345c-451b-a82c-6c036ed7a9f7\">\n",
              "    <div class=\"colab-df-container\">\n",
              "      <div>\n",
              "<style scoped>\n",
              "    .dataframe tbody tr th:only-of-type {\n",
              "        vertical-align: middle;\n",
              "    }\n",
              "\n",
              "    .dataframe tbody tr th {\n",
              "        vertical-align: top;\n",
              "    }\n",
              "\n",
              "    .dataframe thead th {\n",
              "        text-align: right;\n",
              "    }\n",
              "</style>\n",
              "<table border=\"1\" class=\"dataframe\">\n",
              "  <thead>\n",
              "    <tr style=\"text-align: right;\">\n",
              "      <th></th>\n",
              "      <th>danceability</th>\n",
              "      <th>song_title</th>\n",
              "      <th>artist</th>\n",
              "    </tr>\n",
              "  </thead>\n",
              "  <tbody>\n",
              "    <tr>\n",
              "      <th>1433</th>\n",
              "      <td>0.984</td>\n",
              "      <td>Flashwind - Radio Edit</td>\n",
              "      <td>Ben Remember</td>\n",
              "    </tr>\n",
              "    <tr>\n",
              "      <th>1901</th>\n",
              "      <td>0.967</td>\n",
              "      <td>SexyBack</td>\n",
              "      <td>Justin Timberlake</td>\n",
              "    </tr>\n",
              "    <tr>\n",
              "      <th>604</th>\n",
              "      <td>0.962</td>\n",
              "      <td>Check Me Out Like</td>\n",
              "      <td>Blaqstarr</td>\n",
              "    </tr>\n",
              "    <tr>\n",
              "      <th>32</th>\n",
              "      <td>0.959</td>\n",
              "      <td>Best Friend</td>\n",
              "      <td>Young Thug</td>\n",
              "    </tr>\n",
              "    <tr>\n",
              "      <th>1957</th>\n",
              "      <td>0.959</td>\n",
              "      <td>Ice Ice Baby</td>\n",
              "      <td>Vanilla Ice</td>\n",
              "    </tr>\n",
              "  </tbody>\n",
              "</table>\n",
              "</div>\n",
              "      <button class=\"colab-df-convert\" onclick=\"convertToInteractive('df-b7b23db2-345c-451b-a82c-6c036ed7a9f7')\"\n",
              "              title=\"Convert this dataframe to an interactive table.\"\n",
              "              style=\"display:none;\">\n",
              "        \n",
              "  <svg xmlns=\"http://www.w3.org/2000/svg\" height=\"24px\"viewBox=\"0 0 24 24\"\n",
              "       width=\"24px\">\n",
              "    <path d=\"M0 0h24v24H0V0z\" fill=\"none\"/>\n",
              "    <path d=\"M18.56 5.44l.94 2.06.94-2.06 2.06-.94-2.06-.94-.94-2.06-.94 2.06-2.06.94zm-11 1L8.5 8.5l.94-2.06 2.06-.94-2.06-.94L8.5 2.5l-.94 2.06-2.06.94zm10 10l.94 2.06.94-2.06 2.06-.94-2.06-.94-.94-2.06-.94 2.06-2.06.94z\"/><path d=\"M17.41 7.96l-1.37-1.37c-.4-.4-.92-.59-1.43-.59-.52 0-1.04.2-1.43.59L10.3 9.45l-7.72 7.72c-.78.78-.78 2.05 0 2.83L4 21.41c.39.39.9.59 1.41.59.51 0 1.02-.2 1.41-.59l7.78-7.78 2.81-2.81c.8-.78.8-2.07 0-2.86zM5.41 20L4 18.59l7.72-7.72 1.47 1.35L5.41 20z\"/>\n",
              "  </svg>\n",
              "      </button>\n",
              "      \n",
              "  <style>\n",
              "    .colab-df-container {\n",
              "      display:flex;\n",
              "      flex-wrap:wrap;\n",
              "      gap: 12px;\n",
              "    }\n",
              "\n",
              "    .colab-df-convert {\n",
              "      background-color: #E8F0FE;\n",
              "      border: none;\n",
              "      border-radius: 50%;\n",
              "      cursor: pointer;\n",
              "      display: none;\n",
              "      fill: #1967D2;\n",
              "      height: 32px;\n",
              "      padding: 0 0 0 0;\n",
              "      width: 32px;\n",
              "    }\n",
              "\n",
              "    .colab-df-convert:hover {\n",
              "      background-color: #E2EBFA;\n",
              "      box-shadow: 0px 1px 2px rgba(60, 64, 67, 0.3), 0px 1px 3px 1px rgba(60, 64, 67, 0.15);\n",
              "      fill: #174EA6;\n",
              "    }\n",
              "\n",
              "    [theme=dark] .colab-df-convert {\n",
              "      background-color: #3B4455;\n",
              "      fill: #D2E3FC;\n",
              "    }\n",
              "\n",
              "    [theme=dark] .colab-df-convert:hover {\n",
              "      background-color: #434B5C;\n",
              "      box-shadow: 0px 1px 3px 1px rgba(0, 0, 0, 0.15);\n",
              "      filter: drop-shadow(0px 1px 2px rgba(0, 0, 0, 0.3));\n",
              "      fill: #FFFFFF;\n",
              "    }\n",
              "  </style>\n",
              "\n",
              "      <script>\n",
              "        const buttonEl =\n",
              "          document.querySelector('#df-b7b23db2-345c-451b-a82c-6c036ed7a9f7 button.colab-df-convert');\n",
              "        buttonEl.style.display =\n",
              "          google.colab.kernel.accessAllowed ? 'block' : 'none';\n",
              "\n",
              "        async function convertToInteractive(key) {\n",
              "          const element = document.querySelector('#df-b7b23db2-345c-451b-a82c-6c036ed7a9f7');\n",
              "          const dataTable =\n",
              "            await google.colab.kernel.invokeFunction('convertToInteractive',\n",
              "                                                     [key], {});\n",
              "          if (!dataTable) return;\n",
              "\n",
              "          const docLinkHtml = 'Like what you see? Visit the ' +\n",
              "            '<a target=\"_blank\" href=https://colab.research.google.com/notebooks/data_table.ipynb>data table notebook</a>'\n",
              "            + ' to learn more about interactive tables.';\n",
              "          element.innerHTML = '';\n",
              "          dataTable['output_type'] = 'display_data';\n",
              "          await google.colab.output.renderOutput(dataTable, element);\n",
              "          const docLink = document.createElement('div');\n",
              "          docLink.innerHTML = docLinkHtml;\n",
              "          element.appendChild(docLink);\n",
              "        }\n",
              "      </script>\n",
              "    </div>\n",
              "  </div>\n",
              "  "
            ]
          },
          "metadata": {},
          "execution_count": 42
        }
      ]
    },
    {
      "cell_type": "markdown",
      "source": [
        "# 8.&nbsp;Data Analysis"
      ],
      "metadata": {
        "id": "L5CGhoqnGJxO"
      }
    },
    {
      "cell_type": "code",
      "source": [
        "data.corr()"
      ],
      "metadata": {
        "colab": {
          "base_uri": "https://localhost:8080/",
          "height": 588
        },
        "id": "pc-W4xlw9CbS",
        "outputId": "6500807c-1746-420b-a65a-b55a62cc2fb9"
      },
      "execution_count": 43,
      "outputs": [
        {
          "output_type": "stream",
          "name": "stderr",
          "text": [
            "<ipython-input-43-c44ded798807>:1: FutureWarning: The default value of numeric_only in DataFrame.corr is deprecated. In a future version, it will default to False. Select only valid columns or specify the value of numeric_only to silence this warning.\n",
            "  data.corr()\n"
          ]
        },
        {
          "output_type": "execute_result",
          "data": {
            "text/plain": [
              "                  acousticness  danceability  duration_ms    energy  \\\n",
              "acousticness          1.000000     -0.179894     0.071536 -0.646319   \n",
              "danceability         -0.179894      1.000000     0.004695  0.038557   \n",
              "duration_ms           0.071536      0.004695     1.000000 -0.144473   \n",
              "energy               -0.646319      0.038557    -0.144473  1.000000   \n",
              "instrumentalness      0.144397     -0.130561     0.305403 -0.122890   \n",
              "key                  -0.081037      0.022325     0.023570  0.072886   \n",
              "liveness             -0.117126     -0.132044     0.023203  0.217435   \n",
              "loudness             -0.562021      0.104362    -0.273798  0.762177   \n",
              "mode                  0.068028     -0.047867    -0.074806 -0.070263   \n",
              "speechiness          -0.099893      0.142661    -0.079562  0.093102   \n",
              "tempo                -0.127596     -0.143538    -0.076469  0.165721   \n",
              "time_signature       -0.190353      0.128909    -0.040157  0.182895   \n",
              "valence              -0.152227      0.442061    -0.120030  0.278383   \n",
              "target               -0.129627      0.176706     0.146749  0.039688   \n",
              "\n",
              "                  instrumentalness       key  liveness  loudness      mode  \\\n",
              "acousticness              0.144397 -0.081037 -0.117126 -0.562021  0.068028   \n",
              "danceability             -0.130561  0.022325 -0.132044  0.104362 -0.047867   \n",
              "duration_ms               0.305403  0.023570  0.023203 -0.273798 -0.074806   \n",
              "energy                   -0.122890  0.072886  0.217435  0.762177 -0.070263   \n",
              "instrumentalness          1.000000 -0.009640  0.001063 -0.354625 -0.030099   \n",
              "key                      -0.009640  1.000000  0.049739  0.050929 -0.195040   \n",
              "liveness                  0.001063  0.049739  1.000000  0.156648 -0.018587   \n",
              "loudness                 -0.354625  0.050929  0.156648  1.000000 -0.044015   \n",
              "mode                     -0.030099 -0.195040 -0.018587 -0.044015  1.000000   \n",
              "speechiness              -0.155349  0.019116  0.092403  0.088844 -0.049398   \n",
              "tempo                     0.000347  0.040301  0.010558  0.156418 -0.059995   \n",
              "time_signature           -0.070721  0.024937  0.018199  0.143011 -0.039038   \n",
              "valence                  -0.194630  0.032485 -0.053011  0.204968 -0.032879   \n",
              "target                    0.152594  0.033594  0.026364 -0.072000 -0.072336   \n",
              "\n",
              "                  speechiness     tempo  time_signature   valence    target  \n",
              "acousticness        -0.099893 -0.127596       -0.190353 -0.152227 -0.129627  \n",
              "danceability         0.142661 -0.143538        0.128909  0.442061  0.176706  \n",
              "duration_ms         -0.079562 -0.076469       -0.040157 -0.120030  0.146749  \n",
              "energy               0.093102  0.165721        0.182895  0.278383  0.039688  \n",
              "instrumentalness    -0.155349  0.000347       -0.070721 -0.194630  0.152594  \n",
              "key                  0.019116  0.040301        0.024937  0.032485  0.033594  \n",
              "liveness             0.092403  0.010558        0.018199 -0.053011  0.026364  \n",
              "loudness             0.088844  0.156418        0.143011  0.204968 -0.072000  \n",
              "mode                -0.049398 -0.059995       -0.039038 -0.032879 -0.072336  \n",
              "speechiness          1.000000  0.111359        0.113529  0.054419  0.154006  \n",
              "tempo                0.111359  1.000000       -0.055918 -0.014965  0.034732  \n",
              "time_signature       0.113529 -0.055918        1.000000  0.134722  0.040182  \n",
              "valence              0.054419 -0.014965        0.134722  1.000000  0.107930  \n",
              "target               0.154006  0.034732        0.040182  0.107930  1.000000  "
            ],
            "text/html": [
              "\n",
              "  <div id=\"df-e3de6e24-28be-4f2e-9d35-ea7935f541e9\">\n",
              "    <div class=\"colab-df-container\">\n",
              "      <div>\n",
              "<style scoped>\n",
              "    .dataframe tbody tr th:only-of-type {\n",
              "        vertical-align: middle;\n",
              "    }\n",
              "\n",
              "    .dataframe tbody tr th {\n",
              "        vertical-align: top;\n",
              "    }\n",
              "\n",
              "    .dataframe thead th {\n",
              "        text-align: right;\n",
              "    }\n",
              "</style>\n",
              "<table border=\"1\" class=\"dataframe\">\n",
              "  <thead>\n",
              "    <tr style=\"text-align: right;\">\n",
              "      <th></th>\n",
              "      <th>acousticness</th>\n",
              "      <th>danceability</th>\n",
              "      <th>duration_ms</th>\n",
              "      <th>energy</th>\n",
              "      <th>instrumentalness</th>\n",
              "      <th>key</th>\n",
              "      <th>liveness</th>\n",
              "      <th>loudness</th>\n",
              "      <th>mode</th>\n",
              "      <th>speechiness</th>\n",
              "      <th>tempo</th>\n",
              "      <th>time_signature</th>\n",
              "      <th>valence</th>\n",
              "      <th>target</th>\n",
              "    </tr>\n",
              "  </thead>\n",
              "  <tbody>\n",
              "    <tr>\n",
              "      <th>acousticness</th>\n",
              "      <td>1.000000</td>\n",
              "      <td>-0.179894</td>\n",
              "      <td>0.071536</td>\n",
              "      <td>-0.646319</td>\n",
              "      <td>0.144397</td>\n",
              "      <td>-0.081037</td>\n",
              "      <td>-0.117126</td>\n",
              "      <td>-0.562021</td>\n",
              "      <td>0.068028</td>\n",
              "      <td>-0.099893</td>\n",
              "      <td>-0.127596</td>\n",
              "      <td>-0.190353</td>\n",
              "      <td>-0.152227</td>\n",
              "      <td>-0.129627</td>\n",
              "    </tr>\n",
              "    <tr>\n",
              "      <th>danceability</th>\n",
              "      <td>-0.179894</td>\n",
              "      <td>1.000000</td>\n",
              "      <td>0.004695</td>\n",
              "      <td>0.038557</td>\n",
              "      <td>-0.130561</td>\n",
              "      <td>0.022325</td>\n",
              "      <td>-0.132044</td>\n",
              "      <td>0.104362</td>\n",
              "      <td>-0.047867</td>\n",
              "      <td>0.142661</td>\n",
              "      <td>-0.143538</td>\n",
              "      <td>0.128909</td>\n",
              "      <td>0.442061</td>\n",
              "      <td>0.176706</td>\n",
              "    </tr>\n",
              "    <tr>\n",
              "      <th>duration_ms</th>\n",
              "      <td>0.071536</td>\n",
              "      <td>0.004695</td>\n",
              "      <td>1.000000</td>\n",
              "      <td>-0.144473</td>\n",
              "      <td>0.305403</td>\n",
              "      <td>0.023570</td>\n",
              "      <td>0.023203</td>\n",
              "      <td>-0.273798</td>\n",
              "      <td>-0.074806</td>\n",
              "      <td>-0.079562</td>\n",
              "      <td>-0.076469</td>\n",
              "      <td>-0.040157</td>\n",
              "      <td>-0.120030</td>\n",
              "      <td>0.146749</td>\n",
              "    </tr>\n",
              "    <tr>\n",
              "      <th>energy</th>\n",
              "      <td>-0.646319</td>\n",
              "      <td>0.038557</td>\n",
              "      <td>-0.144473</td>\n",
              "      <td>1.000000</td>\n",
              "      <td>-0.122890</td>\n",
              "      <td>0.072886</td>\n",
              "      <td>0.217435</td>\n",
              "      <td>0.762177</td>\n",
              "      <td>-0.070263</td>\n",
              "      <td>0.093102</td>\n",
              "      <td>0.165721</td>\n",
              "      <td>0.182895</td>\n",
              "      <td>0.278383</td>\n",
              "      <td>0.039688</td>\n",
              "    </tr>\n",
              "    <tr>\n",
              "      <th>instrumentalness</th>\n",
              "      <td>0.144397</td>\n",
              "      <td>-0.130561</td>\n",
              "      <td>0.305403</td>\n",
              "      <td>-0.122890</td>\n",
              "      <td>1.000000</td>\n",
              "      <td>-0.009640</td>\n",
              "      <td>0.001063</td>\n",
              "      <td>-0.354625</td>\n",
              "      <td>-0.030099</td>\n",
              "      <td>-0.155349</td>\n",
              "      <td>0.000347</td>\n",
              "      <td>-0.070721</td>\n",
              "      <td>-0.194630</td>\n",
              "      <td>0.152594</td>\n",
              "    </tr>\n",
              "    <tr>\n",
              "      <th>key</th>\n",
              "      <td>-0.081037</td>\n",
              "      <td>0.022325</td>\n",
              "      <td>0.023570</td>\n",
              "      <td>0.072886</td>\n",
              "      <td>-0.009640</td>\n",
              "      <td>1.000000</td>\n",
              "      <td>0.049739</td>\n",
              "      <td>0.050929</td>\n",
              "      <td>-0.195040</td>\n",
              "      <td>0.019116</td>\n",
              "      <td>0.040301</td>\n",
              "      <td>0.024937</td>\n",
              "      <td>0.032485</td>\n",
              "      <td>0.033594</td>\n",
              "    </tr>\n",
              "    <tr>\n",
              "      <th>liveness</th>\n",
              "      <td>-0.117126</td>\n",
              "      <td>-0.132044</td>\n",
              "      <td>0.023203</td>\n",
              "      <td>0.217435</td>\n",
              "      <td>0.001063</td>\n",
              "      <td>0.049739</td>\n",
              "      <td>1.000000</td>\n",
              "      <td>0.156648</td>\n",
              "      <td>-0.018587</td>\n",
              "      <td>0.092403</td>\n",
              "      <td>0.010558</td>\n",
              "      <td>0.018199</td>\n",
              "      <td>-0.053011</td>\n",
              "      <td>0.026364</td>\n",
              "    </tr>\n",
              "    <tr>\n",
              "      <th>loudness</th>\n",
              "      <td>-0.562021</td>\n",
              "      <td>0.104362</td>\n",
              "      <td>-0.273798</td>\n",
              "      <td>0.762177</td>\n",
              "      <td>-0.354625</td>\n",
              "      <td>0.050929</td>\n",
              "      <td>0.156648</td>\n",
              "      <td>1.000000</td>\n",
              "      <td>-0.044015</td>\n",
              "      <td>0.088844</td>\n",
              "      <td>0.156418</td>\n",
              "      <td>0.143011</td>\n",
              "      <td>0.204968</td>\n",
              "      <td>-0.072000</td>\n",
              "    </tr>\n",
              "    <tr>\n",
              "      <th>mode</th>\n",
              "      <td>0.068028</td>\n",
              "      <td>-0.047867</td>\n",
              "      <td>-0.074806</td>\n",
              "      <td>-0.070263</td>\n",
              "      <td>-0.030099</td>\n",
              "      <td>-0.195040</td>\n",
              "      <td>-0.018587</td>\n",
              "      <td>-0.044015</td>\n",
              "      <td>1.000000</td>\n",
              "      <td>-0.049398</td>\n",
              "      <td>-0.059995</td>\n",
              "      <td>-0.039038</td>\n",
              "      <td>-0.032879</td>\n",
              "      <td>-0.072336</td>\n",
              "    </tr>\n",
              "    <tr>\n",
              "      <th>speechiness</th>\n",
              "      <td>-0.099893</td>\n",
              "      <td>0.142661</td>\n",
              "      <td>-0.079562</td>\n",
              "      <td>0.093102</td>\n",
              "      <td>-0.155349</td>\n",
              "      <td>0.019116</td>\n",
              "      <td>0.092403</td>\n",
              "      <td>0.088844</td>\n",
              "      <td>-0.049398</td>\n",
              "      <td>1.000000</td>\n",
              "      <td>0.111359</td>\n",
              "      <td>0.113529</td>\n",
              "      <td>0.054419</td>\n",
              "      <td>0.154006</td>\n",
              "    </tr>\n",
              "    <tr>\n",
              "      <th>tempo</th>\n",
              "      <td>-0.127596</td>\n",
              "      <td>-0.143538</td>\n",
              "      <td>-0.076469</td>\n",
              "      <td>0.165721</td>\n",
              "      <td>0.000347</td>\n",
              "      <td>0.040301</td>\n",
              "      <td>0.010558</td>\n",
              "      <td>0.156418</td>\n",
              "      <td>-0.059995</td>\n",
              "      <td>0.111359</td>\n",
              "      <td>1.000000</td>\n",
              "      <td>-0.055918</td>\n",
              "      <td>-0.014965</td>\n",
              "      <td>0.034732</td>\n",
              "    </tr>\n",
              "    <tr>\n",
              "      <th>time_signature</th>\n",
              "      <td>-0.190353</td>\n",
              "      <td>0.128909</td>\n",
              "      <td>-0.040157</td>\n",
              "      <td>0.182895</td>\n",
              "      <td>-0.070721</td>\n",
              "      <td>0.024937</td>\n",
              "      <td>0.018199</td>\n",
              "      <td>0.143011</td>\n",
              "      <td>-0.039038</td>\n",
              "      <td>0.113529</td>\n",
              "      <td>-0.055918</td>\n",
              "      <td>1.000000</td>\n",
              "      <td>0.134722</td>\n",
              "      <td>0.040182</td>\n",
              "    </tr>\n",
              "    <tr>\n",
              "      <th>valence</th>\n",
              "      <td>-0.152227</td>\n",
              "      <td>0.442061</td>\n",
              "      <td>-0.120030</td>\n",
              "      <td>0.278383</td>\n",
              "      <td>-0.194630</td>\n",
              "      <td>0.032485</td>\n",
              "      <td>-0.053011</td>\n",
              "      <td>0.204968</td>\n",
              "      <td>-0.032879</td>\n",
              "      <td>0.054419</td>\n",
              "      <td>-0.014965</td>\n",
              "      <td>0.134722</td>\n",
              "      <td>1.000000</td>\n",
              "      <td>0.107930</td>\n",
              "    </tr>\n",
              "    <tr>\n",
              "      <th>target</th>\n",
              "      <td>-0.129627</td>\n",
              "      <td>0.176706</td>\n",
              "      <td>0.146749</td>\n",
              "      <td>0.039688</td>\n",
              "      <td>0.152594</td>\n",
              "      <td>0.033594</td>\n",
              "      <td>0.026364</td>\n",
              "      <td>-0.072000</td>\n",
              "      <td>-0.072336</td>\n",
              "      <td>0.154006</td>\n",
              "      <td>0.034732</td>\n",
              "      <td>0.040182</td>\n",
              "      <td>0.107930</td>\n",
              "      <td>1.000000</td>\n",
              "    </tr>\n",
              "  </tbody>\n",
              "</table>\n",
              "</div>\n",
              "      <button class=\"colab-df-convert\" onclick=\"convertToInteractive('df-e3de6e24-28be-4f2e-9d35-ea7935f541e9')\"\n",
              "              title=\"Convert this dataframe to an interactive table.\"\n",
              "              style=\"display:none;\">\n",
              "        \n",
              "  <svg xmlns=\"http://www.w3.org/2000/svg\" height=\"24px\"viewBox=\"0 0 24 24\"\n",
              "       width=\"24px\">\n",
              "    <path d=\"M0 0h24v24H0V0z\" fill=\"none\"/>\n",
              "    <path d=\"M18.56 5.44l.94 2.06.94-2.06 2.06-.94-2.06-.94-.94-2.06-.94 2.06-2.06.94zm-11 1L8.5 8.5l.94-2.06 2.06-.94-2.06-.94L8.5 2.5l-.94 2.06-2.06.94zm10 10l.94 2.06.94-2.06 2.06-.94-2.06-.94-.94-2.06-.94 2.06-2.06.94z\"/><path d=\"M17.41 7.96l-1.37-1.37c-.4-.4-.92-.59-1.43-.59-.52 0-1.04.2-1.43.59L10.3 9.45l-7.72 7.72c-.78.78-.78 2.05 0 2.83L4 21.41c.39.39.9.59 1.41.59.51 0 1.02-.2 1.41-.59l7.78-7.78 2.81-2.81c.8-.78.8-2.07 0-2.86zM5.41 20L4 18.59l7.72-7.72 1.47 1.35L5.41 20z\"/>\n",
              "  </svg>\n",
              "      </button>\n",
              "      \n",
              "  <style>\n",
              "    .colab-df-container {\n",
              "      display:flex;\n",
              "      flex-wrap:wrap;\n",
              "      gap: 12px;\n",
              "    }\n",
              "\n",
              "    .colab-df-convert {\n",
              "      background-color: #E8F0FE;\n",
              "      border: none;\n",
              "      border-radius: 50%;\n",
              "      cursor: pointer;\n",
              "      display: none;\n",
              "      fill: #1967D2;\n",
              "      height: 32px;\n",
              "      padding: 0 0 0 0;\n",
              "      width: 32px;\n",
              "    }\n",
              "\n",
              "    .colab-df-convert:hover {\n",
              "      background-color: #E2EBFA;\n",
              "      box-shadow: 0px 1px 2px rgba(60, 64, 67, 0.3), 0px 1px 3px 1px rgba(60, 64, 67, 0.15);\n",
              "      fill: #174EA6;\n",
              "    }\n",
              "\n",
              "    [theme=dark] .colab-df-convert {\n",
              "      background-color: #3B4455;\n",
              "      fill: #D2E3FC;\n",
              "    }\n",
              "\n",
              "    [theme=dark] .colab-df-convert:hover {\n",
              "      background-color: #434B5C;\n",
              "      box-shadow: 0px 1px 3px 1px rgba(0, 0, 0, 0.15);\n",
              "      filter: drop-shadow(0px 1px 2px rgba(0, 0, 0, 0.3));\n",
              "      fill: #FFFFFF;\n",
              "    }\n",
              "  </style>\n",
              "\n",
              "      <script>\n",
              "        const buttonEl =\n",
              "          document.querySelector('#df-e3de6e24-28be-4f2e-9d35-ea7935f541e9 button.colab-df-convert');\n",
              "        buttonEl.style.display =\n",
              "          google.colab.kernel.accessAllowed ? 'block' : 'none';\n",
              "\n",
              "        async function convertToInteractive(key) {\n",
              "          const element = document.querySelector('#df-e3de6e24-28be-4f2e-9d35-ea7935f541e9');\n",
              "          const dataTable =\n",
              "            await google.colab.kernel.invokeFunction('convertToInteractive',\n",
              "                                                     [key], {});\n",
              "          if (!dataTable) return;\n",
              "\n",
              "          const docLinkHtml = 'Like what you see? Visit the ' +\n",
              "            '<a target=\"_blank\" href=https://colab.research.google.com/notebooks/data_table.ipynb>data table notebook</a>'\n",
              "            + ' to learn more about interactive tables.';\n",
              "          element.innerHTML = '';\n",
              "          dataTable['output_type'] = 'display_data';\n",
              "          await google.colab.output.renderOutput(dataTable, element);\n",
              "          const docLink = document.createElement('div');\n",
              "          docLink.innerHTML = docLinkHtml;\n",
              "          element.appendChild(docLink);\n",
              "        }\n",
              "      </script>\n",
              "    </div>\n",
              "  </div>\n",
              "  "
            ]
          },
          "metadata": {},
          "execution_count": 43
        }
      ]
    },
    {
      "cell_type": "code",
      "source": [
        "# danceability and energy show a 0.038 correlation."
      ],
      "metadata": {
        "id": "UndM4b5R9YFX"
      },
      "execution_count": null,
      "outputs": []
    },
    {
      "cell_type": "code",
      "source": [
        "data_group1 = np.array([\"danceability\"])\n",
        "data_group2 = np.array([\"energy\"])                    "
      ],
      "metadata": {
        "id": "aU8JGMHRDYs8"
      },
      "execution_count": 84,
      "outputs": []
    },
    {
      "cell_type": "code",
      "source": [
        "import scipy.stats as stats\n",
        "def get_ttest(x,y):\n",
        "  result = stats.ttest_ind(a=x, b=y, equal_var=True)\n",
        "  return result\n",
        "\n",
        "get_ttest(x,y)  \n",
        "#the correlation between the 2 variables is extremely significant (danceability & energy)"
      ],
      "metadata": {
        "colab": {
          "base_uri": "https://localhost:8080/"
        },
        "id": "pqchNOzXDVaY",
        "outputId": "79b4b8c2-daa3-496e-b7e5-733063c608e4"
      },
      "execution_count": 86,
      "outputs": [
        {
          "output_type": "execute_result",
          "data": {
            "text/plain": [
              "Ttest_indResult(statistic=-10.709364686652343, pvalue=2.077024916134981e-26)"
            ]
          },
          "metadata": {},
          "execution_count": 86
        }
      ]
    },
    {
      "cell_type": "markdown",
      "source": [
        "# 9.&nbsp;Data Visualization"
      ],
      "metadata": {
        "id": "KbsOltGkGhEr"
      }
    },
    {
      "cell_type": "code",
      "source": [
        "\n",
        "# this graph show what we found in data analysis (i.e. if different scores in danceability are significantly correlated with energy)\n",
        "\n",
        "x = data[\"danceability\"]\n",
        "y = data[\"energy\"]\n",
        "\n",
        "plt.scatter(x, y, c = \"orange\", linewidths = 1, marker = \"^\", edgecolor = \"green\", s = 20)\n",
        "\n",
        "plt.xlabel(\"DANCEABILITY\",fontsize=12)\n",
        "plt.ylabel(\"ENERGY\",fontsize=12)\n",
        "plt.title(\"DANCEABILITY & ENERGY LEVELS\",fontsize=12)\n",
        "plt.show()\n",
        "\n",
        "# there is not a linear correlation between the two indexes"
      ],
      "metadata": {
        "colab": {
          "base_uri": "https://localhost:8080/",
          "height": 476
        },
        "id": "PWPK9LIWA2UE",
        "outputId": "26d5ed88-75ea-4afd-8332-729830dde302"
      },
      "execution_count": 68,
      "outputs": [
        {
          "output_type": "display_data",
          "data": {
            "text/plain": [
              "<Figure size 640x480 with 1 Axes>"
            ],
            "image/png": "[encoded data removed]"
          },
          "metadata": {}
        }
      ]
    },
    {
      "cell_type": "code",
      "source": [
        "# graph of the top 5 songs accoridng to their danceability.\n",
        "import seaborn as sns\n",
        "\n",
        "plt.figure(figsize=(12,7))\n",
        "sns.barplot(x=\"danceability\", y=\"song_title\", data =top_artists_danceable_songs)\n",
        "plt.title(\"DANCEABLE ON THE TOP 5 SONGS\")\n",
        "\n",
        "#as you can see all of them are high in \"danceability\", which suggests that a popular song needs a high danceability feature. "
      ],
      "metadata": {
        "colab": {
          "base_uri": "https://localhost:8080/",
          "height": 507
        },
        "id": "VQyw-pFiIk5D",
        "outputId": "d32b98c8-7900-496e-ec70-105166cd4ef8"
      },
      "execution_count": 89,
      "outputs": [
        {
          "output_type": "execute_result",
          "data": {
            "text/plain": [
              "Text(0.5, 1.0, 'DANCEABLE ON THE TOP 5 SONGS')"
            ]
          },
          "metadata": {},
          "execution_count": 89
        },
        {
          "output_type": "display_data",
          "data": {
            "text/plain": [
              "<Figure size 1200x700 with 1 Axes>"
            ],
            "image/png": "[encoded data removed]"
          },
          "metadata": {}
        }
      ]
    },
    {
      "cell_type": "markdown",
      "source": [
        "# 10.&nbsp;Data Exporting"
      ],
      "metadata": {
        "id": "TnNFwTuHGmRS"
      }
    },
    {
      "cell_type": "code",
      "source": [
        "data.to_csv('cleaned_examdata.csv', header = False, index=False)"
      ],
      "metadata": {
        "id": "xVmXya-I30r9"
      },
      "execution_count": 92,
      "outputs": []
    }
  ]
}